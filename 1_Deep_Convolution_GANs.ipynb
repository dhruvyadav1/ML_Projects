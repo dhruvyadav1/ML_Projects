{
  "nbformat": 4,
  "nbformat_minor": 0,
  "metadata": {
    "colab": {
      "name": "Deep_Convolution_GANs.ipynb",
      "provenance": []
    },
    "kernelspec": {
      "name": "python3",
      "display_name": "Python 3"
    },
    "accelerator": "GPU"
  },
  "cells": [
    {
      "cell_type": "code",
      "metadata": {
        "id": "bkLwBKUJeFeE"
      },
      "source": [
        "import pandas as pd\n",
        "import numpy as np\n",
        "import seaborn as sns\n",
        "import matplotlib.pyplot as plt\n",
        "from tensorflow.keras.datasets import mnist\n",
        "import tensorflow as tf\n",
        "from tensorflow.keras.layers import Reshape,Dense,Dropout,LeakyReLU,Flatten,BatchNormalization,Conv2D,Conv2DTranspose\n",
        "from tensorflow.keras.models import Sequential"
      ],
      "execution_count": null,
      "outputs": []
    },
    {
      "cell_type": "markdown",
      "metadata": {
        "id": "ZPGXXpnMfYrp"
      },
      "source": [
        "#Data"
      ]
    },
    {
      "cell_type": "code",
      "metadata": {
        "id": "8KqIAmWsfQzV",
        "outputId": "d9cddbb6-8287-48d2-b49c-6fb7c74bf01c",
        "colab": {
          "base_uri": "https://localhost:8080/"
        }
      },
      "source": [
        "(X_train,y_train),(X_test,y_test) = mnist.load_data()"
      ],
      "execution_count": null,
      "outputs": [
        {
          "output_type": "stream",
          "text": [
            "Downloading data from https://storage.googleapis.com/tensorflow/tf-keras-datasets/mnist.npz\n",
            "11493376/11490434 [==============================] - 0s 0us/step\n"
          ],
          "name": "stdout"
        }
      ]
    },
    {
      "cell_type": "code",
      "metadata": {
        "id": "QZn83Xl7fckz",
        "outputId": "4df4edc3-365b-462e-c35a-7cc9d6059a0e",
        "colab": {
          "base_uri": "https://localhost:8080/",
          "height": 281
        }
      },
      "source": [
        "plt.imshow(X_train[0])"
      ],
      "execution_count": null,
      "outputs": [
        {
          "output_type": "execute_result",
          "data": {
            "text/plain": [
              "<matplotlib.image.AxesImage at 0x7f70506d5b70>"
            ]
          },
          "metadata": {
            "tags": []
          },
          "execution_count": 3
        },
        {
          "output_type": "display_data",
          "data": {
            "image/png": "[encoded data removed]",
            "text/plain": [
              "<Figure size 432x288 with 1 Axes>"
            ]
          },
          "metadata": {
            "tags": [],
            "needs_background": "light"
          }
        }
      ]
    },
    {
      "cell_type": "code",
      "metadata": {
        "id": "OElMavfZfgtq",
        "outputId": "d90781ed-a51d-4db8-d305-b90a3ac054c8",
        "colab": {
          "base_uri": "https://localhost:8080/"
        }
      },
      "source": [
        "print(X_train.shape)\n",
        "print(X_train[0])\n",
        "print(y_train.shape)\n",
        "print(y_train[0])\n",
        "print(X_test.shape)\n",
        "print(y_test.shape)"
      ],
      "execution_count": null,
      "outputs": [
        {
          "output_type": "stream",
          "text": [
            "(60000, 28, 28)\n",
            "[[  0   0   0   0   0   0   0   0   0   0   0   0   0   0   0   0   0   0\n",
            "    0   0   0   0   0   0   0   0   0   0]\n",
            " [  0   0   0   0   0   0   0   0   0   0   0   0   0   0   0   0   0   0\n",
            "    0   0   0   0   0   0   0   0   0   0]\n",
            " [  0   0   0   0   0   0   0   0   0   0   0   0   0   0   0   0   0   0\n",
            "    0   0   0   0   0   0   0   0   0   0]\n",
            " [  0   0   0   0   0   0   0   0   0   0   0   0   0   0   0   0   0   0\n",
            "    0   0   0   0   0   0   0   0   0   0]\n",
            " [  0   0   0   0   0   0   0   0   0   0   0   0   0   0   0   0   0   0\n",
            "    0   0   0   0   0   0   0   0   0   0]\n",
            " [  0   0   0   0   0   0   0   0   0   0   0   0   3  18  18  18 126 136\n",
            "  175  26 166 255 247 127   0   0   0   0]\n",
            " [  0   0   0   0   0   0   0   0  30  36  94 154 170 253 253 253 253 253\n",
            "  225 172 253 242 195  64   0   0   0   0]\n",
            " [  0   0   0   0   0   0   0  49 238 253 253 253 253 253 253 253 253 251\n",
            "   93  82  82  56  39   0   0   0   0   0]\n",
            " [  0   0   0   0   0   0   0  18 219 253 253 253 253 253 198 182 247 241\n",
            "    0   0   0   0   0   0   0   0   0   0]\n",
            " [  0   0   0   0   0   0   0   0  80 156 107 253 253 205  11   0  43 154\n",
            "    0   0   0   0   0   0   0   0   0   0]\n",
            " [  0   0   0   0   0   0   0   0   0  14   1 154 253  90   0   0   0   0\n",
            "    0   0   0   0   0   0   0   0   0   0]\n",
            " [  0   0   0   0   0   0   0   0   0   0   0 139 253 190   2   0   0   0\n",
            "    0   0   0   0   0   0   0   0   0   0]\n",
            " [  0   0   0   0   0   0   0   0   0   0   0  11 190 253  70   0   0   0\n",
            "    0   0   0   0   0   0   0   0   0   0]\n",
            " [  0   0   0   0   0   0   0   0   0   0   0   0  35 241 225 160 108   1\n",
            "    0   0   0   0   0   0   0   0   0   0]\n",
            " [  0   0   0   0   0   0   0   0   0   0   0   0   0  81 240 253 253 119\n",
            "   25   0   0   0   0   0   0   0   0   0]\n",
            " [  0   0   0   0   0   0   0   0   0   0   0   0   0   0  45 186 253 253\n",
            "  150  27   0   0   0   0   0   0   0   0]\n",
            " [  0   0   0   0   0   0   0   0   0   0   0   0   0   0   0  16  93 252\n",
            "  253 187   0   0   0   0   0   0   0   0]\n",
            " [  0   0   0   0   0   0   0   0   0   0   0   0   0   0   0   0   0 249\n",
            "  253 249  64   0   0   0   0   0   0   0]\n",
            " [  0   0   0   0   0   0   0   0   0   0   0   0   0   0  46 130 183 253\n",
            "  253 207   2   0   0   0   0   0   0   0]\n",
            " [  0   0   0   0   0   0   0   0   0   0   0   0  39 148 229 253 253 253\n",
            "  250 182   0   0   0   0   0   0   0   0]\n",
            " [  0   0   0   0   0   0   0   0   0   0  24 114 221 253 253 253 253 201\n",
            "   78   0   0   0   0   0   0   0   0   0]\n",
            " [  0   0   0   0   0   0   0   0  23  66 213 253 253 253 253 198  81   2\n",
            "    0   0   0   0   0   0   0   0   0   0]\n",
            " [  0   0   0   0   0   0  18 171 219 253 253 253 253 195  80   9   0   0\n",
            "    0   0   0   0   0   0   0   0   0   0]\n",
            " [  0   0   0   0  55 172 226 253 253 253 253 244 133  11   0   0   0   0\n",
            "    0   0   0   0   0   0   0   0   0   0]\n",
            " [  0   0   0   0 136 253 253 253 212 135 132  16   0   0   0   0   0   0\n",
            "    0   0   0   0   0   0   0   0   0   0]\n",
            " [  0   0   0   0   0   0   0   0   0   0   0   0   0   0   0   0   0   0\n",
            "    0   0   0   0   0   0   0   0   0   0]\n",
            " [  0   0   0   0   0   0   0   0   0   0   0   0   0   0   0   0   0   0\n",
            "    0   0   0   0   0   0   0   0   0   0]\n",
            " [  0   0   0   0   0   0   0   0   0   0   0   0   0   0   0   0   0   0\n",
            "    0   0   0   0   0   0   0   0   0   0]]\n",
            "(60000,)\n",
            "5\n",
            "(10000, 28, 28)\n",
            "(10000,)\n"
          ],
          "name": "stdout"
        }
      ]
    },
    {
      "cell_type": "code",
      "metadata": {
        "id": "W9GHGwFgfj0r"
      },
      "source": [
        "# All the intensity values are from 0 to 255\n",
        "#Note:  We will use tanh function for the last layer of the Generator so, \n",
        "# So in the discriminator model of the X-train we need to rescale the input matrix to (-1 to 1) "
      ],
      "execution_count": null,
      "outputs": []
    },
    {
      "cell_type": "code",
      "metadata": {
        "id": "8Ym9YIkThLGz",
        "outputId": "1cc07907-fe8c-42d1-9e77-a08ae7926634",
        "colab": {
          "base_uri": "https://localhost:8080/"
        }
      },
      "source": [
        "print(X_train.min())\n",
        "print(X_train.max())\n",
        "X_train = X_train/255\n",
        "X_train = X_train.reshape(-1,28,28,1)*2.0-1.0\n",
        "print(X_train.min())\n",
        "print(X_train.max())"
      ],
      "execution_count": null,
      "outputs": [
        {
          "output_type": "stream",
          "text": [
            "0\n",
            "255\n",
            "-1.0\n",
            "1.0\n"
          ],
          "name": "stdout"
        }
      ]
    },
    {
      "cell_type": "code",
      "metadata": {
        "id": "nDPt_Y5UhjyV",
        "outputId": "daeb9c55-48ae-4cf1-c095-ca2746464b13",
        "colab": {
          "base_uri": "https://localhost:8080/"
        }
      },
      "source": [
        "# Training the model for y=0\n",
        "\n",
        "only_zeros = X_train[y_train==0]\n",
        "print(only_zeros.shape)"
      ],
      "execution_count": null,
      "outputs": [
        {
          "output_type": "stream",
          "text": [
            "(5923, 28, 28, 1)\n"
          ],
          "name": "stdout"
        }
      ]
    },
    {
      "cell_type": "code",
      "metadata": {
        "id": "HdnpMgqWh3Bf"
      },
      "source": [
        "np.random.seed(101)\n",
        "tf.random.set_seed(101)\n",
        "codings_size = 100"
      ],
      "execution_count": null,
      "outputs": []
    },
    {
      "cell_type": "code",
      "metadata": {
        "id": "PXUvcA57imC0"
      },
      "source": [
        "generator = Sequential()\n",
        "generator.add(Dense(7*7*128,input_shape=[codings_size]))\n",
        "generator.add(Reshape([7,7,128]))\n",
        "generator.add(BatchNormalization())\n",
        "generator.add(Conv2DTranspose(64, kernel_size=5, strides=2, padding=\"same\",activation=\"relu\"))\n",
        "generator.add(BatchNormalization())\n",
        "generator.add(Conv2DTranspose(1, kernel_size=5, strides=2, padding=\"same\",activation=\"tanh\"))"
      ],
      "execution_count": null,
      "outputs": []
    },
    {
      "cell_type": "code",
      "metadata": {
        "id": "weyMYYMijYOM"
      },
      "source": [
        "discriminator = Sequential()\n",
        "discriminator.add(Conv2D(64, kernel_size=5, strides=2, padding=\"same\",activation=LeakyReLU(0.3),input_shape=[28, 28, 1]))\n",
        "discriminator.add(Dropout(0.5))\n",
        "discriminator.add(Conv2D(128, kernel_size=5, strides=2, padding=\"same\",activation=LeakyReLU(0.3)))\n",
        "discriminator.add(Dropout(0.5))\n",
        "discriminator.add(Flatten())\n",
        "discriminator.add(Dense(1, activation=\"sigmoid\"))"
      ],
      "execution_count": null,
      "outputs": []
    },
    {
      "cell_type": "code",
      "metadata": {
        "id": "uvEK42zGlFva"
      },
      "source": [
        "GAN = Sequential([generator, discriminator])"
      ],
      "execution_count": null,
      "outputs": []
    },
    {
      "cell_type": "code",
      "metadata": {
        "id": "hGuDD7x6lOow"
      },
      "source": [
        "discriminator.compile(loss=\"binary_crossentropy\", optimizer=\"adam\")\n",
        "discriminator.trainable = False"
      ],
      "execution_count": null,
      "outputs": []
    },
    {
      "cell_type": "code",
      "metadata": {
        "id": "bIoCS3qmlPxf"
      },
      "source": [
        "GAN.compile(loss=\"binary_crossentropy\", optimizer=\"adam\")"
      ],
      "execution_count": null,
      "outputs": []
    },
    {
      "cell_type": "code",
      "metadata": {
        "id": "MSJcyvMAlSGD",
        "outputId": "17d24f19-922d-4d8d-d0ec-a142d34d3fc3",
        "colab": {
          "base_uri": "https://localhost:8080/"
        }
      },
      "source": [
        "GAN.summary()"
      ],
      "execution_count": null,
      "outputs": [
        {
          "output_type": "stream",
          "text": [
            "Model: \"sequential_2\"\n",
            "_________________________________________________________________\n",
            "Layer (type)                 Output Shape              Param #   \n",
            "=================================================================\n",
            "sequential (Sequential)      (None, 28, 28, 1)         840705    \n",
            "_________________________________________________________________\n",
            "sequential_1 (Sequential)    (None, 1)                 212865    \n",
            "=================================================================\n",
            "Total params: 1,053,570\n",
            "Trainable params: 840,321\n",
            "Non-trainable params: 213,249\n",
            "_________________________________________________________________\n"
          ],
          "name": "stdout"
        }
      ]
    },
    {
      "cell_type": "code",
      "metadata": {
        "id": "2yIQ_PCMlT1k"
      },
      "source": [
        "batch_size = 32\n",
        "my_data = only_zeros\n",
        "dataset = tf.data.Dataset.from_tensor_slices(my_data).shuffle(buffer_size=1000)\n",
        "dataset = dataset.batch(batch_size, drop_remainder=True).prefetch(1)"
      ],
      "execution_count": null,
      "outputs": []
    },
    {
      "cell_type": "code",
      "metadata": {
        "id": "Pen-l85jl7rr"
      },
      "source": [
        "epochs = 20"
      ],
      "execution_count": null,
      "outputs": []
    },
    {
      "cell_type": "code",
      "metadata": {
        "id": "7-lOk1wsl89j",
        "outputId": "621dbc9b-cf37-4b80-c442-f87ef50bacbf",
        "colab": {
          "base_uri": "https://localhost:8080/"
        }
      },
      "source": [
        "# Grab the seprate components\n",
        "generator, discriminator = GAN.layers\n",
        "\n",
        "# For every epcoh\n",
        "for epoch in range(epochs):\n",
        "    print(f\"Currently on Epoch {epoch+1}\")\n",
        "    i = 0\n",
        "    # For every batch in the dataset\n",
        "    for X_batch in dataset:\n",
        "        i=i+1\n",
        "        if i%20 == 0:\n",
        "            print(f\"\\tCurrently on batch number {i} of {len(my_data)//batch_size}\")\n",
        "        #####################################\n",
        "        ## TRAINING THE DISCRIMINATOR ######\n",
        "        ###################################\n",
        "        \n",
        "        # Create Noise\n",
        "        noise = tf.random.normal(shape=[batch_size, codings_size])\n",
        "        \n",
        "        # Generate numbers based just on noise input\n",
        "        gen_images = generator(noise)\n",
        "        \n",
        "        # Concatenate Generated Images against the Real Ones\n",
        "        # TO use tf.concat, the data types must match!\n",
        "        X_fake_vs_real = tf.concat([gen_images, tf.dtypes.cast(X_batch,tf.float32)], axis=0)\n",
        "        \n",
        "        # Targets set to zero for fake images and 1 for real images\n",
        "        y1 = tf.constant([[0.]] * batch_size + [[1.]] * batch_size)\n",
        "        \n",
        "        # This gets rid of a Keras warning\n",
        "        discriminator.trainable = True\n",
        "        \n",
        "        # Train the discriminator on this batch\n",
        "        discriminator.train_on_batch(X_fake_vs_real, y1)\n",
        "        \n",
        "        \n",
        "        #####################################\n",
        "        ## TRAINING THE GENERATOR     ######\n",
        "        ###################################\n",
        "        \n",
        "        # Create some noise\n",
        "        noise = tf.random.normal(shape=[batch_size, codings_size])\n",
        "        \n",
        "        # We want discriminator to belive that fake images are real\n",
        "        y2 = tf.constant([[1.]] * batch_size)\n",
        "        \n",
        "        # Avois a warning\n",
        "        discriminator.trainable = False\n",
        "        \n",
        "        GAN.train_on_batch(noise, y2)\n",
        "        \n",
        "print(\"TRAINING COMPLETE\")            "
      ],
      "execution_count": null,
      "outputs": [
        {
          "output_type": "stream",
          "text": [
            "Currently on Epoch 1\n",
            "\tCurrently on batch number 20 of 185\n",
            "\tCurrently on batch number 40 of 185\n",
            "\tCurrently on batch number 60 of 185\n",
            "\tCurrently on batch number 80 of 185\n",
            "\tCurrently on batch number 100 of 185\n",
            "\tCurrently on batch number 120 of 185\n",
            "\tCurrently on batch number 140 of 185\n",
            "\tCurrently on batch number 160 of 185\n",
            "\tCurrently on batch number 180 of 185\n",
            "Currently on Epoch 2\n",
            "\tCurrently on batch number 20 of 185\n",
            "\tCurrently on batch number 40 of 185\n",
            "\tCurrently on batch number 60 of 185\n",
            "\tCurrently on batch number 80 of 185\n",
            "\tCurrently on batch number 100 of 185\n",
            "\tCurrently on batch number 120 of 185\n",
            "\tCurrently on batch number 140 of 185\n",
            "\tCurrently on batch number 160 of 185\n",
            "\tCurrently on batch number 180 of 185\n",
            "Currently on Epoch 3\n",
            "\tCurrently on batch number 20 of 185\n",
            "\tCurrently on batch number 40 of 185\n",
            "\tCurrently on batch number 60 of 185\n",
            "\tCurrently on batch number 80 of 185\n",
            "\tCurrently on batch number 100 of 185\n",
            "\tCurrently on batch number 120 of 185\n",
            "\tCurrently on batch number 140 of 185\n",
            "\tCurrently on batch number 160 of 185\n",
            "\tCurrently on batch number 180 of 185\n",
            "Currently on Epoch 4\n",
            "\tCurrently on batch number 20 of 185\n",
            "\tCurrently on batch number 40 of 185\n",
            "\tCurrently on batch number 60 of 185\n",
            "\tCurrently on batch number 80 of 185\n",
            "\tCurrently on batch number 100 of 185\n",
            "\tCurrently on batch number 120 of 185\n",
            "\tCurrently on batch number 140 of 185\n",
            "\tCurrently on batch number 160 of 185\n",
            "\tCurrently on batch number 180 of 185\n",
            "Currently on Epoch 5\n",
            "\tCurrently on batch number 20 of 185\n",
            "\tCurrently on batch number 40 of 185\n",
            "\tCurrently on batch number 60 of 185\n",
            "\tCurrently on batch number 80 of 185\n",
            "\tCurrently on batch number 100 of 185\n",
            "\tCurrently on batch number 120 of 185\n",
            "\tCurrently on batch number 140 of 185\n",
            "\tCurrently on batch number 160 of 185\n",
            "\tCurrently on batch number 180 of 185\n",
            "Currently on Epoch 6\n",
            "\tCurrently on batch number 20 of 185\n",
            "\tCurrently on batch number 40 of 185\n",
            "\tCurrently on batch number 60 of 185\n",
            "\tCurrently on batch number 80 of 185\n",
            "\tCurrently on batch number 100 of 185\n",
            "\tCurrently on batch number 120 of 185\n",
            "\tCurrently on batch number 140 of 185\n",
            "\tCurrently on batch number 160 of 185\n",
            "\tCurrently on batch number 180 of 185\n",
            "Currently on Epoch 7\n",
            "\tCurrently on batch number 20 of 185\n",
            "\tCurrently on batch number 40 of 185\n",
            "\tCurrently on batch number 60 of 185\n",
            "\tCurrently on batch number 80 of 185\n",
            "\tCurrently on batch number 100 of 185\n",
            "\tCurrently on batch number 120 of 185\n",
            "\tCurrently on batch number 140 of 185\n",
            "\tCurrently on batch number 160 of 185\n",
            "\tCurrently on batch number 180 of 185\n",
            "Currently on Epoch 8\n",
            "\tCurrently on batch number 20 of 185\n",
            "\tCurrently on batch number 40 of 185\n",
            "\tCurrently on batch number 60 of 185\n",
            "\tCurrently on batch number 80 of 185\n",
            "\tCurrently on batch number 100 of 185\n",
            "\tCurrently on batch number 120 of 185\n",
            "\tCurrently on batch number 140 of 185\n",
            "\tCurrently on batch number 160 of 185\n",
            "\tCurrently on batch number 180 of 185\n",
            "Currently on Epoch 9\n",
            "\tCurrently on batch number 20 of 185\n",
            "\tCurrently on batch number 40 of 185\n",
            "\tCurrently on batch number 60 of 185\n",
            "\tCurrently on batch number 80 of 185\n",
            "\tCurrently on batch number 100 of 185\n",
            "\tCurrently on batch number 120 of 185\n",
            "\tCurrently on batch number 140 of 185\n",
            "\tCurrently on batch number 160 of 185\n",
            "\tCurrently on batch number 180 of 185\n",
            "Currently on Epoch 10\n",
            "\tCurrently on batch number 20 of 185\n",
            "\tCurrently on batch number 40 of 185\n",
            "\tCurrently on batch number 60 of 185\n",
            "\tCurrently on batch number 80 of 185\n",
            "\tCurrently on batch number 100 of 185\n",
            "\tCurrently on batch number 120 of 185\n",
            "\tCurrently on batch number 140 of 185\n",
            "\tCurrently on batch number 160 of 185\n",
            "\tCurrently on batch number 180 of 185\n",
            "Currently on Epoch 11\n",
            "\tCurrently on batch number 20 of 185\n",
            "\tCurrently on batch number 40 of 185\n",
            "\tCurrently on batch number 60 of 185\n",
            "\tCurrently on batch number 80 of 185\n",
            "\tCurrently on batch number 100 of 185\n",
            "\tCurrently on batch number 120 of 185\n",
            "\tCurrently on batch number 140 of 185\n",
            "\tCurrently on batch number 160 of 185\n",
            "\tCurrently on batch number 180 of 185\n",
            "Currently on Epoch 12\n",
            "\tCurrently on batch number 20 of 185\n",
            "\tCurrently on batch number 40 of 185\n",
            "\tCurrently on batch number 60 of 185\n",
            "\tCurrently on batch number 80 of 185\n",
            "\tCurrently on batch number 100 of 185\n",
            "\tCurrently on batch number 120 of 185\n",
            "\tCurrently on batch number 140 of 185\n",
            "\tCurrently on batch number 160 of 185\n",
            "\tCurrently on batch number 180 of 185\n",
            "Currently on Epoch 13\n",
            "\tCurrently on batch number 20 of 185\n",
            "\tCurrently on batch number 40 of 185\n",
            "\tCurrently on batch number 60 of 185\n",
            "\tCurrently on batch number 80 of 185\n",
            "\tCurrently on batch number 100 of 185\n",
            "\tCurrently on batch number 120 of 185\n",
            "\tCurrently on batch number 140 of 185\n",
            "\tCurrently on batch number 160 of 185\n",
            "\tCurrently on batch number 180 of 185\n",
            "Currently on Epoch 14\n",
            "\tCurrently on batch number 20 of 185\n",
            "\tCurrently on batch number 40 of 185\n",
            "\tCurrently on batch number 60 of 185\n",
            "\tCurrently on batch number 80 of 185\n",
            "\tCurrently on batch number 100 of 185\n",
            "\tCurrently on batch number 120 of 185\n",
            "\tCurrently on batch number 140 of 185\n",
            "\tCurrently on batch number 160 of 185\n",
            "\tCurrently on batch number 180 of 185\n",
            "Currently on Epoch 15\n",
            "\tCurrently on batch number 20 of 185\n",
            "\tCurrently on batch number 40 of 185\n",
            "\tCurrently on batch number 60 of 185\n",
            "\tCurrently on batch number 80 of 185\n",
            "\tCurrently on batch number 100 of 185\n",
            "\tCurrently on batch number 120 of 185\n",
            "\tCurrently on batch number 140 of 185\n",
            "\tCurrently on batch number 160 of 185\n",
            "\tCurrently on batch number 180 of 185\n",
            "Currently on Epoch 16\n",
            "\tCurrently on batch number 20 of 185\n",
            "\tCurrently on batch number 40 of 185\n",
            "\tCurrently on batch number 60 of 185\n",
            "\tCurrently on batch number 80 of 185\n",
            "\tCurrently on batch number 100 of 185\n",
            "\tCurrently on batch number 120 of 185\n",
            "\tCurrently on batch number 140 of 185\n",
            "\tCurrently on batch number 160 of 185\n",
            "\tCurrently on batch number 180 of 185\n",
            "Currently on Epoch 17\n",
            "\tCurrently on batch number 20 of 185\n",
            "\tCurrently on batch number 40 of 185\n",
            "\tCurrently on batch number 60 of 185\n",
            "\tCurrently on batch number 80 of 185\n",
            "\tCurrently on batch number 100 of 185\n",
            "\tCurrently on batch number 120 of 185\n",
            "\tCurrently on batch number 140 of 185\n",
            "\tCurrently on batch number 160 of 185\n",
            "\tCurrently on batch number 180 of 185\n",
            "Currently on Epoch 18\n",
            "\tCurrently on batch number 20 of 185\n",
            "\tCurrently on batch number 40 of 185\n",
            "\tCurrently on batch number 60 of 185\n",
            "\tCurrently on batch number 80 of 185\n",
            "\tCurrently on batch number 100 of 185\n",
            "\tCurrently on batch number 120 of 185\n",
            "\tCurrently on batch number 140 of 185\n",
            "\tCurrently on batch number 160 of 185\n",
            "\tCurrently on batch number 180 of 185\n",
            "Currently on Epoch 19\n",
            "\tCurrently on batch number 20 of 185\n",
            "\tCurrently on batch number 40 of 185\n",
            "\tCurrently on batch number 60 of 185\n",
            "\tCurrently on batch number 80 of 185\n",
            "\tCurrently on batch number 100 of 185\n",
            "\tCurrently on batch number 120 of 185\n",
            "\tCurrently on batch number 140 of 185\n",
            "\tCurrently on batch number 160 of 185\n",
            "\tCurrently on batch number 180 of 185\n",
            "Currently on Epoch 20\n",
            "\tCurrently on batch number 20 of 185\n",
            "\tCurrently on batch number 40 of 185\n",
            "\tCurrently on batch number 60 of 185\n",
            "\tCurrently on batch number 80 of 185\n",
            "\tCurrently on batch number 100 of 185\n",
            "\tCurrently on batch number 120 of 185\n",
            "\tCurrently on batch number 140 of 185\n",
            "\tCurrently on batch number 160 of 185\n",
            "\tCurrently on batch number 180 of 185\n",
            "TRAINING COMPLETE\n"
          ],
          "name": "stdout"
        }
      ]
    },
    {
      "cell_type": "code",
      "metadata": {
        "id": "x7Xp7FkKmBvr"
      },
      "source": [
        "noise = tf.random.normal(shape=[10, codings_size])"
      ],
      "execution_count": null,
      "outputs": []
    },
    {
      "cell_type": "code",
      "metadata": {
        "id": "sEYH2poaoilH",
        "outputId": "4f35004d-bb5e-47b5-b5b4-3e924d90ee9c",
        "colab": {
          "base_uri": "https://localhost:8080/",
          "height": 101
        }
      },
      "source": [
        "plt.imshow(noise)"
      ],
      "execution_count": null,
      "outputs": [
        {
          "output_type": "execute_result",
          "data": {
            "text/plain": [
              "<matplotlib.image.AxesImage at 0x7f6ff42f5630>"
            ]
          },
          "metadata": {
            "tags": []
          },
          "execution_count": 19
        },
        {
          "output_type": "display_data",
          "data": {
            "image/png": "[encoded data removed]",
            "text/plain": [
              "<Figure size 432x288 with 1 Axes>"
            ]
          },
          "metadata": {
            "tags": [],
            "needs_background": "light"
          }
        }
      ]
    },
    {
      "cell_type": "code",
      "metadata": {
        "id": "jfN8wdLhoklZ",
        "outputId": "78a1a8ed-3776-411d-b281-6fe6d25a314c",
        "colab": {
          "base_uri": "https://localhost:8080/",
          "height": 1000
        }
      },
      "source": [
        "noise = tf.random.normal(shape=[10, codings_size])\n",
        "images = generator(noise)\n",
        "print(images.shape)\n",
        "for image in images:\n",
        "    plt.imshow(image.numpy().reshape(28,28))\n",
        "    plt.show()"
      ],
      "execution_count": null,
      "outputs": [
        {
          "output_type": "stream",
          "text": [
            "(10, 28, 28, 1)\n"
          ],
          "name": "stdout"
        },
        {
          "output_type": "display_data",
          "data": {
            "image/png": "[encoded data removed]",
            "text/plain": [
              "<Figure size 432x288 with 1 Axes>"
            ]
          },
          "metadata": {
            "tags": [],
            "needs_background": "light"
          }
        },
        {
          "output_type": "display_data",
          "data": {
            "image/png": "[encoded data removed]",
            "text/plain": [
              "<Figure size 432x288 with 1 Axes>"
            ]
          },
          "metadata": {
            "tags": [],
            "needs_background": "light"
          }
        },
        {
          "output_type": "display_data",
          "data": {
            "image/png": "[encoded data removed]",
            "text/plain": [
              "<Figure size 432x288 with 1 Axes>"
            ]
          },
          "metadata": {
            "tags": [],
            "needs_background": "light"
          }
        },
        {
          "output_type": "display_data",
          "data": {
            "image/png": "[encoded data removed]",
            "text/plain": [
              "<Figure size 432x288 with 1 Axes>"
            ]
          },
          "metadata": {
            "tags": [],
            "needs_background": "light"
          }
        },
        {
          "output_type": "display_data",
          "data": {
            "image/png": "[encoded data removed]",
            "text/plain": [
              "<Figure size 432x288 with 1 Axes>"
            ]
          },
          "metadata": {
            "tags": [],
            "needs_background": "light"
          }
        },
        {
          "output_type": "display_data",
          "data": {
            "image/png": "[encoded data removed]",
            "text/plain": [
              "<Figure size 432x288 with 1 Axes>"
            ]
          },
          "metadata": {
            "tags": [],
            "needs_background": "light"
          }
        },
        {
          "output_type": "display_data",
          "data": {
            "image/png": "[encoded data removed]",
            "text/plain": [
              "<Figure size 432x288 with 1 Axes>"
            ]
          },
          "metadata": {
            "tags": [],
            "needs_background": "light"
          }
        },
        {
          "output_type": "display_data",
          "data": {
            "image/png": "[encoded data removed]",
            "text/plain": [
              "<Figure size 432x288 with 1 Axes>"
            ]
          },
          "metadata": {
            "tags": [],
            "needs_background": "light"
          }
        },
        {
          "output_type": "display_data",
          "data": {
            "image/png": "[encoded data removed]",
            "text/plain": [
              "<Figure size 432x288 with 1 Axes>"
            ]
          },
          "metadata": {
            "tags": [],
            "needs_background": "light"
          }
        },
        {
          "output_type": "display_data",
          "data": {
            "image/png": "[encoded data removed]",
            "text/plain": [
              "<Figure size 432x288 with 1 Axes>"
            ]
          },
          "metadata": {
            "tags": [],
            "needs_background": "light"
          }
        }
      ]
    },
    {
      "cell_type": "code",
      "metadata": {
        "id": "itlV-rWtowx3"
      },
      "source": [
        "#This is an example with 0 we can do the same with any digit"
      ],
      "execution_count": null,
      "outputs": []
    }
  ]
}